{
 "cells": [
  {
   "cell_type": "markdown",
   "id": "fc4e1e1b",
   "metadata": {},
   "source": [
    "# Bank Marketing Campaign - Opening a Term Deposit"
   ]
  },
  {
   "cell_type": "code",
   "execution_count": 2,
   "id": "da092754",
   "metadata": {},
   "outputs": [],
   "source": [
    "import numpy as np\n",
    "import pandas as pd\n",
    "import matplotlib.pyplot as plt\n",
    "import seaborn as sns\n",
    "import time\n",
    "\n",
    "from sklearn.model_selection import train_test_split, GridSearchCV, cross_val_score, cross_val_predict\n",
    "from sklearn.preprocessing import StandardScaler, MinMaxScaler, OneHotEncoder, LabelEncoder\n",
    "from sklearn.tree import DecisionTreeClassifier\n",
    "from sklearn.ensemble import GradientBoostingClassifier\n",
    "from sklearn.neural_network import MLPClassifier\n",
    "from sklearn.linear_model import LogisticRegression\n",
    "from sklearn.metrics import classification_report, confusion_matrix, accuracy_score, precision_score, recall_score, precision_recall_curve, roc_curve, auc\n",
    "from sklearn import tree\n",
    "\n",
    "from matplotlib.ticker import FuncFormatter\n",
    "\n",
    "from plotly import tools\n",
    "from plotly.offline import download_plotlyjs, init_notebook_mode, plot, iplot\n",
    "import plotly.figure_factory as ff\n",
    "import plotly.graph_objs as go\n",
    "\n",
    "import chart_studio.plotly as py\n",
    "\n",
    "from imblearn.over_sampling import SMOTE"
   ]
  },
  {
   "cell_type": "markdown",
   "id": "63a63c4c",
   "metadata": {},
   "source": [
    "## Loading dataset"
   ]
  },
  {
   "cell_type": "code",
   "execution_count": 3,
   "id": "ebca63b0",
   "metadata": {},
   "outputs": [
    {
     "name": "stdout",
     "output_type": "stream",
     "text": [
      "   age           job  marital  education default  balance housing loan  \\\n",
      "0   58    management  married   tertiary      no     2143     yes   no   \n",
      "1   44    technician   single  secondary      no       29     yes   no   \n",
      "2   33  entrepreneur  married  secondary      no        2     yes  yes   \n",
      "3   47   blue-collar  married    unknown      no     1506     yes   no   \n",
      "4   33       unknown   single    unknown      no        1      no   no   \n",
      "\n",
      "   contact  day month  duration  campaign  pdays  previous poutcome   y  \n",
      "0  unknown    5   may       261         1     -1         0  unknown  no  \n",
      "1  unknown    5   may       151         1     -1         0  unknown  no  \n",
      "2  unknown    5   may        76         1     -1         0  unknown  no  \n",
      "3  unknown    5   may        92         1     -1         0  unknown  no  \n",
      "4  unknown    5   may       198         1     -1         0  unknown  no  \n"
     ]
    }
   ],
   "source": [
    "df = pd.read_csv('bank-full.csv', sep=';')\n",
    "\n",
    "print(df.head())"
   ]
  },
  {
   "cell_type": "code",
   "execution_count": null,
   "id": "a94d38f5",
   "metadata": {},
   "outputs": [],
   "source": [
    "df.columns"
   ]
  },
  {
   "cell_type": "code",
   "execution_count": null,
   "id": "2733d627",
   "metadata": {},
   "outputs": [],
   "source": [
    "print(\"printing basic data:\\n\", df.describe())\n",
    "print(\"\\nchecking if data is null:\\n\", df.isnull().sum())"
   ]
  },
  {
   "cell_type": "code",
   "execution_count": null,
   "id": "67a2597e",
   "metadata": {},
   "outputs": [],
   "source": [
    "print(\"Num of term subscriptions\")\n",
    "df['y'].value_counts()"
   ]
  },
  {
   "cell_type": "code",
   "execution_count": null,
   "id": "766f793e-d590-4542-a644-05fdc68ad3dc",
   "metadata": {},
   "outputs": [],
   "source": [
    "train_percentage = 0.8\n",
    "val_percentage = 0.1\n",
    "test_percentage = 0.1\n",
    "\n",
    "train_data, temp_data = train_test_split(df, test_size=(1 - train_percentage), random_state=42)\n",
    "val_test_percentage = val_percentage / (val_percentage + test_percentage)\n",
    "val_data, test_data = train_test_split(temp_data, test_size=val_test_percentage, random_state=42)\n",
    "\n",
    "print(f\"Training set size: {len(train_data)}\")\n",
    "print(f\"Test set size: {len(test_data)}\")\n",
    "print(f\"Validation set size: {len(val_data)}\")"
   ]
  },
  {
   "cell_type": "markdown",
   "id": "64edc733-4fd3-45c3-a3ad-c544db64148a",
   "metadata": {},
   "source": [
    "## Exploratory Data Analysis"
   ]
  },
  {
   "cell_type": "markdown",
   "id": "bdc8dc40",
   "metadata": {},
   "source": [
    "### Information on Term Subscriptions"
   ]
  },
  {
   "cell_type": "code",
   "execution_count": null,
   "id": "68fc7895",
   "metadata": {},
   "outputs": [],
   "source": [
    "colors = [\"#3399ff\", \"#ffa500\"]\n",
    "palette = [\"#3399ff\", \"#ffa500\"]\n",
    "\n",
    "fig, ax = plt.subplots(1, 2, figsize=(16, 8))\n",
    "\n",
    "plt.suptitle('Information on Term Subscriptions', fontsize=20)\n",
    "\n",
    "df[\"y\"].value_counts().plot.pie(\n",
    "    explode=[0, 0.25],\n",
    "    autopct='%1.2f%%',\n",
    "    ax=ax[0],\n",
    "    shadow=True,\n",
    "    colors=colors,\n",
    "    fontsize=12,\n",
    "    startangle=25\n",
    ")\n",
    "ax[0].set_title('State of Loan', fontsize=16)\n",
    "ax[0].set_ylabel('% of Condition of Loans', fontsize=14)\n",
    "\n",
    "sns.barplot(\n",
    "    x=\"education\",\n",
    "    y=\"balance\",\n",
    "    hue=\"y\",\n",
    "    data=df,\n",
    "    palette=palette,\n",
    "    estimator=lambda x: len(x) / len(df) * 100,\n",
    "    ax=ax[1]\n",
    ")\n",
    "ax[1].set_ylabel(\"(%)\")\n",
    "education_labels = df[\"education\"].unique()\n",
    "ax[1].set_xticks(range(len(education_labels)))\n",
    "ax[1].set_xticklabels(education_labels, rotation=0, rotation_mode=\"anchor\")\n",
    "\n",
    "plt.show()"
   ]
  },
  {
   "cell_type": "markdown",
   "id": "8f5771d0",
   "metadata": {},
   "source": [
    "### Numeric data distribution"
   ]
  },
  {
   "cell_type": "code",
   "execution_count": 4,
   "id": "3a699b9a-e8e9-4e21-afb1-cdf4e699b670",
   "metadata": {},
   "outputs": [
    {
     "data": {
      "image/png": "[encoded data removed]",
      "text/plain": [
       "<Figure size 1400x1000 with 9 Axes>"
      ]
     },
     "metadata": {},
     "output_type": "display_data"
    }
   ],
   "source": [
    "import matplotlib.pyplot as plt\n",
    "plt.style.use(\"seaborn-v0_8\")\n",
    "\n",
    "df.hist(bins=20, figsize=(14,10), color='#E14906')\n",
    "plt.show()"
   ]
  },
  {
   "cell_type": "code",
   "execution_count": null,
   "id": "c32deaeb-30e0-46ae-a795-7aa84159d06e",
   "metadata": {},
   "outputs": [],
   "source": [
    "fig = plt.figure(figsize=(14, 14))\n",
    "\n",
    "ax1 = fig.add_subplot(221)\n",
    "ax2 = fig.add_subplot(222)\n",
    "ax3 = fig.add_subplot(212)\n",
    "\n",
    "g = sns.boxplot(x=\"default\", y=\"balance\", hue=\"y\", data=df, palette=\"muted\", ax=ax1)\n",
    "g.set_title(\"Amount of Balance by Term Subscriptions\")\n",
    "\n",
    "g1 = sns.boxplot(x=\"job\", y=\"balance\", hue=\"y\", data=df, palette=\"RdBu_r\", ax=ax2)\n",
    "job_labels = df[\"job\"].unique()\n",
    "job_positions = range(len(job_labels))\n",
    "g1.set_xticks(job_positions)\n",
    "g1.set_xticklabels(job_labels, rotation=90, rotation_mode=\"anchor\")\n",
    "g1.set_title(\"Type of Work by Term Subscriptions\")\n",
    "\n",
    "g2 = sns.violinplot(data=df, x=\"education\", y=\"balance\", hue=\"y\", palette=\"RdBu_r\", ax=ax3)\n",
    "g2.set_title(\"Distribution of Balance by Education\")\n",
    "\n",
    "plt.show()"
   ]
  },
  {
   "cell_type": "markdown",
   "id": "411b2f4d",
   "metadata": {},
   "source": [
    "### Number of Ocupations"
   ]
  },
  {
   "cell_type": "code",
   "execution_count": null,
   "id": "8188b007-84a0-44be-bea6-6d56057ab68c",
   "metadata": {},
   "outputs": [],
   "source": [
    "import squarify\n",
    "import random\n",
    "\n",
    "df = df.drop(df.loc[df[\"balance\"] == 0].index)\n",
    "\n",
    "x = 0\n",
    "y = 0\n",
    "width = 100\n",
    "height = 100\n",
    "\n",
    "job_names = df['job'].value_counts().index\n",
    "values = df['job'].value_counts().tolist()\n",
    "\n",
    "normed = squarify.normalize_sizes(values, width, height)\n",
    "rects = squarify.squarify(normed, x, y, width, height)\n",
    "\n",
    "colors = ['rgb(200, 255, 144)','rgb(135, 206, 235)',\n",
    "          'rgb(235, 164, 135)','rgb(220, 208, 255)',\n",
    "          'rgb(253, 253, 150)','rgb(255, 127, 80)', \n",
    "          'rgb(218, 156, 133)', 'rgb(245, 92, 76)',\n",
    "          'rgb(252, 64, 68)', 'rgb(154, 123, 91)']\n",
    "\n",
    "random.shuffle(colors)\n",
    "\n",
    "shapes = []\n",
    "annotations = []\n",
    "counter = 0\n",
    "\n",
    "for r in rects:\n",
    "    shapes.append(\n",
    "        dict(\n",
    "            type = 'rect',\n",
    "            x0 = r['x'],\n",
    "            y0 = r['y'],\n",
    "            x1 = r['x'] + r['dx'],\n",
    "            y1 = r['y'] + r['dy'],\n",
    "            line = dict(width=2),\n",
    "            fillcolor = colors[counter]\n",
    "        )\n",
    "    )\n",
    "    annotations.append(\n",
    "        dict(\n",
    "            x = r['x']+(r['dx']/2),\n",
    "            y = r['y']+(r['dy']/2),\n",
    "            text = values[counter],\n",
    "            showarrow = False\n",
    "        )\n",
    "    )\n",
    "    counter = counter + 1\n",
    "    if counter >= len(colors):\n",
    "        counter = 0\n",
    "    \n",
    "# For hover text\n",
    "trace0 = go.Scatter(\n",
    "    x = [ r['x']+(r['dx']/2) for r in rects],\n",
    "    y = [ r['y']+(r['dy']/2) for r in rects],\n",
    "    text = [ str(v) for v in job_names],\n",
    "    mode='text',\n",
    ")\n",
    "\n",
    "layout = dict(\n",
    "    title='Number of Occupations',\n",
    "    height=700, \n",
    "    width=700,\n",
    "    xaxis=dict(showgrid=False,zeroline=False),\n",
    "    yaxis=dict(showgrid=False,zeroline=False),\n",
    "    shapes=shapes,\n",
    "    annotations=annotations,\n",
    "    hovermode='closest'\n",
    ")\n",
    "\n",
    "# With hovertext\n",
    "figure = dict(data=[trace0], layout=layout)\n",
    "\n",
    "iplot(figure, filename='squarify-treemap')"
   ]
  },
  {
   "cell_type": "markdown",
   "id": "6b4e88eb",
   "metadata": {},
   "source": [
    "### Distribution of Ages by Occupation"
   ]
  },
  {
   "cell_type": "code",
   "execution_count": null,
   "id": "95f0eacf",
   "metadata": {},
   "outputs": [],
   "source": [
    "suscribed_df = df.loc[df[\"y\"] == \"yes\"]\n",
    "\n",
    "occupations = df[\"job\"].unique().tolist()\n",
    "\n",
    "# Get the balances by jobs\n",
    "management = suscribed_df[\"age\"].loc[suscribed_df[\"job\"] == \"management\"].values\n",
    "technician = suscribed_df[\"age\"].loc[suscribed_df[\"job\"] == \"technician\"].values\n",
    "services = suscribed_df[\"age\"].loc[suscribed_df[\"job\"] == \"services\"].values\n",
    "retired = suscribed_df[\"age\"].loc[suscribed_df[\"job\"] == \"retired\"].values\n",
    "blue_collar = suscribed_df[\"age\"].loc[suscribed_df[\"job\"] == \"blue-collar\"].values\n",
    "unemployed = suscribed_df[\"age\"].loc[suscribed_df[\"job\"] == \"unemployed\"].values\n",
    "entrepreneur = suscribed_df[\"age\"].loc[suscribed_df[\"job\"] == \"entrepreneur\"].values\n",
    "housemaid = suscribed_df[\"age\"].loc[suscribed_df[\"job\"] == \"housemaid\"].values\n",
    "self_employed = suscribed_df[\"age\"].loc[suscribed_df[\"job\"] == \"self-employed\"].values\n",
    "student = suscribed_df[\"age\"].loc[suscribed_df[\"job\"] == \"student\"].values\n",
    "\n",
    "\n",
    "ages = [management, technician, services, retired, blue_collar, unemployed, \n",
    "         entrepreneur, housemaid, self_employed, student]\n",
    "\n",
    "colors = ['rgba(93, 164, 214, 0.5)', 'rgba(255, 144, 14, 0.5)',\n",
    "          'rgba(44, 160, 101, 0.5)', 'rgba(255, 65, 54, 0.5)', \n",
    "          'rgba(207, 114, 255, 0.5)', 'rgba(127, 96, 0, 0.5)',\n",
    "         'rgba(229, 126, 56, 0.5)', 'rgba(229, 56, 56, 0.5)',\n",
    "         'rgba(174, 229, 56, 0.5)', 'rgba(229, 56, 56, 0.5)']\n",
    "\n",
    "traces = []\n",
    "\n",
    "for xd, yd, cls in zip(occupations, ages, colors):\n",
    "        traces.append(go.Box(\n",
    "            y=yd,\n",
    "            name=xd,\n",
    "            boxpoints='all',\n",
    "            jitter=0.5,\n",
    "            whiskerwidth=0.2,\n",
    "            fillcolor=cls,\n",
    "            marker=dict(\n",
    "                size=2,\n",
    "            ),\n",
    "            line=dict(width=1),\n",
    "        ))\n",
    "\n",
    "layout = go.Layout(\n",
    "    title='Distribution of Ages by Occupation',\n",
    "    yaxis=dict(\n",
    "        autorange=True,\n",
    "        showgrid=True,\n",
    "        zeroline=True,\n",
    "        dtick=5,\n",
    "        gridcolor='rgb(255, 255, 255)',\n",
    "        gridwidth=1,\n",
    "        zerolinecolor='rgb(255, 255, 255)',\n",
    "        zerolinewidth=2,\n",
    "    ),\n",
    "    margin=dict(\n",
    "        l=40,\n",
    "        r=30,\n",
    "        b=80,\n",
    "        t=100,\n",
    "    ),\n",
    "    paper_bgcolor='rgb(224,255,246)',\n",
    "    plot_bgcolor='rgb(251,251,251)',\n",
    "    showlegend=False\n",
    ")\n",
    "\n",
    "fig = go.Figure(data=traces, layout=layout)\n",
    "iplot(fig)"
   ]
  },
  {
   "cell_type": "markdown",
   "id": "7d12474c",
   "metadata": {},
   "source": [
    "### Marital status comparison"
   ]
  },
  {
   "cell_type": "code",
   "execution_count": null,
   "id": "75f557c0-007f-4b4c-b634-504b375a05cd",
   "metadata": {},
   "outputs": [],
   "source": [
    "fig = ff.create_facet_grid(\n",
    "    df,\n",
    "    x='duration',\n",
    "    y='balance',\n",
    "    color_name='marital',\n",
    "    show_boxes=False,\n",
    "    marker={'size': 10, 'opacity': 1.0},\n",
    "    colormap={'single': 'rgb(165, 242, 242)', 'married': 'rgb(253, 174, 216)', 'divorced': 'rgba(201, 109, 59, 0.82)'}\n",
    ")\n",
    "\n",
    "iplot(fig, filename='facet - custom colormap')"
   ]
  },
  {
   "cell_type": "markdown",
   "id": "48c80af7",
   "metadata": {},
   "source": [
    "### Facet gird of Martial status"
   ]
  },
  {
   "cell_type": "code",
   "execution_count": null,
   "id": "ba758782-b888-4658-90fc-4dd611140ffe",
   "metadata": {},
   "outputs": [],
   "source": [
    "fig = ff.create_facet_grid(\n",
    "    df,\n",
    "    y='balance',\n",
    "    facet_row='marital',\n",
    "    facet_col='y',\n",
    "    trace_type='box',\n",
    ")\n",
    "\n",
    "iplot(fig, filename='facet - box traces')"
   ]
  },
  {
   "cell_type": "markdown",
   "id": "dfa0d7d7",
   "metadata": {},
   "source": [
    "### The Impact of Duration in Opening a Term Deposit"
   ]
  },
  {
   "cell_type": "code",
   "execution_count": null,
   "id": "9d5af5a7",
   "metadata": {},
   "outputs": [],
   "source": [
    "sns.set_style('whitegrid')\n",
    "\n",
    "def percent(x, pos):\n",
    "    return '%1.0f%%' % x\n",
    "\n",
    "avg_duration = df['duration'].mean()\n",
    "\n",
    "df[\"duration_status\"] = np.nan\n",
    "df[\"duration_status\"] = df[\"duration_status\"].astype(object)\n",
    "\n",
    "lst = [df]\n",
    "\n",
    "for col in lst:\n",
    "    col.loc[col[\"duration\"] < avg_duration, \"duration_status\"] = \"below_average\"\n",
    "    col.loc[col[\"duration\"] > avg_duration, \"duration_status\"] = \"above_average\"\n",
    "\n",
    "pct_term = pd.crosstab(df['duration_status'], df['y']).apply(lambda r: round(r/r.sum(), 2) * 100, axis=1)\n",
    "\n",
    "ax = pct_term.plot(kind='bar', stacked=False, cmap='RdBu')\n",
    "plt.title(\"The Impact of Duration \\n in Opening a Term Deposit\", fontsize=18)\n",
    "plt.xlabel(\"Duration Status\", fontsize=18)\n",
    "plt.ylabel(\"Percentage (%)\", fontsize=18)\n",
    "ax.yaxis.set_major_formatter(FuncFormatter(percent))\n",
    "\n",
    "i = 0\n",
    "for p in ax.patches:\n",
    "    height_adjustment = 1.02\n",
    "    if i >= 2:\n",
    "        height_adjustment = 1.1\n",
    "    ax.annotate(f'{p.get_height():.0f}%',\n",
    "                (p.get_x() + p.get_width() / 2., p.get_height() * height_adjustment),\n",
    "                ha='center', va='center')\n",
    "    i = i + 1\n",
    "\n",
    "plt.show()"
   ]
  },
  {
   "cell_type": "markdown",
   "id": "212ebe87-2dff-4acf-954a-e89728e6e7aa",
   "metadata": {},
   "source": [
    "### Correlation Matrix"
   ]
  },
  {
   "cell_type": "code",
   "execution_count": null,
   "id": "6e216e65",
   "metadata": {},
   "outputs": [],
   "source": [
    "fig = plt.figure(figsize=(12,8))\n",
    "df['y'] = LabelEncoder().fit_transform(df['y'])\n",
    "\n",
    "numeric_df = df.select_dtypes(exclude=\"object\")\n",
    "\n",
    "corr_numeric = numeric_df.corr()\n",
    "\n",
    "sns.heatmap(corr_numeric, cbar=True, cmap=\"RdBu_r\")\n",
    "plt.title(\"Correlation Matrix\", fontsize=16)\n",
    "plt.show()"
   ]
  },
  {
   "cell_type": "markdown",
   "id": "102e0f14",
   "metadata": {},
   "source": [
    "### Pair Plot"
   ]
  },
  {
   "cell_type": "code",
   "execution_count": null,
   "id": "9cc41ad0-24a6-4ef5-b3f3-23d2354463c8",
   "metadata": {},
   "outputs": [],
   "source": [
    "sns.pairplot(df, hue='y')\n",
    "plt.show()"
   ]
  },
  {
   "cell_type": "markdown",
   "id": "f9cd4b7c",
   "metadata": {},
   "source": [
    "## Removing Outliers"
   ]
  },
  {
   "cell_type": "code",
   "execution_count": 10,
   "id": "01024176",
   "metadata": {},
   "outputs": [
    {
     "name": "stdout",
     "output_type": "stream",
     "text": [
      "   age           job  marital  education default  balance housing loan  \\\n",
      "0   58    management  married   tertiary      no     2143     yes   no   \n",
      "1   44    technician   single  secondary      no       29     yes   no   \n",
      "2   33  entrepreneur  married  secondary      no        2     yes  yes   \n",
      "3   47   blue-collar  married    unknown      no     1506     yes   no   \n",
      "4   33       unknown   single    unknown      no        1      no   no   \n",
      "\n",
      "   contact  day month  duration  campaign  pdays  previous poutcome   y  \n",
      "0  unknown    5   may       261         1     -1         0  unknown  no  \n",
      "1  unknown    5   may       151         1     -1         0  unknown  no  \n",
      "2  unknown    5   may        76         1     -1         0  unknown  no  \n",
      "3  unknown    5   may        92         1     -1         0  unknown  no  \n",
      "4  unknown    5   may       198         1     -1         0  unknown  no  \n",
      "                age        balance           day      duration      campaign  \\\n",
      "count  45211.000000   45211.000000  45211.000000  45211.000000  45211.000000   \n",
      "mean      40.936210    1362.272058     15.806419    258.163080      2.763841   \n",
      "std       10.618762    3044.765829      8.322476    257.527812      3.098021   \n",
      "min       18.000000   -8019.000000      1.000000      0.000000      1.000000   \n",
      "25%       33.000000      72.000000      8.000000    103.000000      1.000000   \n",
      "50%       39.000000     448.000000     16.000000    180.000000      2.000000   \n",
      "75%       48.000000    1428.000000     21.000000    319.000000      3.000000   \n",
      "max       95.000000  102127.000000     31.000000   4918.000000     63.000000   \n",
      "\n",
      "              pdays      previous  \n",
      "count  45211.000000  45211.000000  \n",
      "mean      40.197828      0.580323  \n",
      "std      100.128746      2.303441  \n",
      "min       -1.000000      0.000000  \n",
      "25%       -1.000000      0.000000  \n",
      "50%       -1.000000      0.000000  \n",
      "75%       -1.000000      0.000000  \n",
      "max      871.000000    275.000000  \n",
      "Index(['age', 'balance', 'day', 'duration', 'campaign', 'pdays', 'previous'], dtype='object')\n"
     ]
    },
    {
     "data": {
      "image/png": "[encoded data removed]",
      "text/plain": [
       "<Figure size 1200x800 with 1 Axes>"
      ]
     },
     "metadata": {},
     "output_type": "display_data"
    },
    {
     "name": "stdout",
     "output_type": "stream",
     "text": [
      "       age           job  marital  education default  balance housing loan  \\\n",
      "0       58    management  married   tertiary      no     2143     yes   no   \n",
      "1       44    technician   single  secondary      no       29     yes   no   \n",
      "2       33  entrepreneur  married  secondary      no        2     yes  yes   \n",
      "3       47   blue-collar  married    unknown      no     1506     yes   no   \n",
      "4       33       unknown   single    unknown      no        1      no   no   \n",
      "...    ...           ...      ...        ...     ...      ...     ...  ...   \n",
      "45198   37    management  married   tertiary      no     1428      no   no   \n",
      "45202   34        admin.   single  secondary      no      557      no   no   \n",
      "45203   23       student   single   tertiary      no      113      no   no   \n",
      "45205   25    technician   single  secondary      no      505      no  yes   \n",
      "45209   57   blue-collar  married  secondary      no      668      no   no   \n",
      "\n",
      "         contact  day month  duration  campaign  pdays  previous poutcome    y  \n",
      "0        unknown    5   may       261         1     -1         0  unknown   no  \n",
      "1        unknown    5   may       151         1     -1         0  unknown   no  \n",
      "2        unknown    5   may        76         1     -1         0  unknown   no  \n",
      "3        unknown    5   may        92         1     -1         0  unknown   no  \n",
      "4        unknown    5   may       198         1     -1         0  unknown   no  \n",
      "...          ...  ...   ...       ...       ...    ...       ...      ...  ...  \n",
      "45198   cellular   16   nov       333         2     -1         0  unknown   no  \n",
      "45202   cellular   17   nov       224         1     -1         0  unknown  yes  \n",
      "45203   cellular   17   nov       266         1     -1         0  unknown  yes  \n",
      "45205   cellular   17   nov       386         2     -1         0  unknown  yes  \n",
      "45209  telephone   17   nov       508         4     -1         0  unknown   no  \n",
      "\n",
      "[28193 rows x 17 columns]\n"
     ]
    }
   ],
   "source": [
    "df = pd.read_csv('bank-full.csv', delimiter=';')\n",
    "\n",
    "print(df.head())\n",
    "\n",
    "print(df.describe())\n",
    "\n",
    "numeric_cols = df.select_dtypes(include=['number']).columns\n",
    "\n",
    "print(numeric_cols)\n",
    "\n",
    "sns.set_theme(style=\"whitegrid\")\n",
    "plt.figure(figsize=(12, 8))\n",
    "sns.boxplot(data=df[numeric_cols], palette=\"coolwarm\")\n",
    "plt.title('Boxplot of Input Features in Dataset', fontsize=16)\n",
    "plt.xlabel('Input Features', fontsize=12)\n",
    "plt.ylabel('Values', fontsize=12)\n",
    "plt.xticks(rotation=45)\n",
    "plt.show()\n",
    "\n",
    "Q1 = df[numeric_cols].quantile(0.25)\n",
    "Q3 = df[numeric_cols].quantile(0.75)\n",
    "IQR = Q3 - Q1\n",
    "\n",
    "outliers = (df[numeric_cols] < (Q1 - 1.5 * IQR)) | (df[numeric_cols] > (Q3 + 1.5 * IQR))\n",
    "\n",
    "df_cleaned = df[~((df[numeric_cols] < (Q1 - 1.5 * IQR)) | (df[numeric_cols] > (Q3 + 1.5 * IQR))).any(axis=1)]\n",
    "\n",
    "print(df_cleaned)\n",
    "\n",
    "df_cleaned.to_csv('bank-full-cleaned.csv', index=False, sep=';')"
   ]
  },
  {
   "cell_type": "markdown",
   "id": "44142bd8",
   "metadata": {},
   "source": [
    "### Logical Regression Classifier with cleaned dataset"
   ]
  },
  {
   "cell_type": "code",
   "execution_count": 5,
   "id": "1d0e829d",
   "metadata": {},
   "outputs": [
    {
     "name": "stdout",
     "output_type": "stream",
     "text": [
      "Classification Report:\n",
      "               precision    recall  f1-score   support\n",
      "\n",
      "           0       0.95      0.99      0.97      5331\n",
      "           1       0.37      0.06      0.11       308\n",
      "\n",
      "    accuracy                           0.94      5639\n",
      "   macro avg       0.66      0.53      0.54      5639\n",
      "weighted avg       0.92      0.94      0.92      5639\n",
      "\n",
      "Accuracy score: 94.31%\n",
      "Precision score: 37.25%\n",
      "Recall score: 6.17%\n"
     ]
    }
   ],
   "source": [
    "lr_df = pd.read_csv('bank-full-cleaned.csv', sep=';')\n",
    "\n",
    "categorical_columns = lr_df.select_dtypes(include=['object']).columns\n",
    "label_encoders = {}\n",
    "\n",
    "for column in categorical_columns:\n",
    "    le = LabelEncoder()\n",
    "    lr_df[column] = le.fit_transform(lr_df[column])\n",
    "    label_encoders[column] = le\n",
    "\n",
    "X = lr_df.drop('y', axis=1)\n",
    "y = lr_df['y']\n",
    "\n",
    "X_train, X_test, y_train, y_test = train_test_split(X, y, test_size=0.2, random_state=42)\n",
    "\n",
    "lr = LogisticRegression(random_state=42, max_iter=1000, solver='liblinear', C=1.0)\n",
    "time_start = time.time()\n",
    "lr.fit(X_train, y_train)\n",
    "time_end = time.time()\n",
    "lr_time = time_end - time_start\n",
    "\n",
    "y_pred = lr.predict(X_test)\n",
    "lr_accuracy = accuracy_score(y_test, y_pred)\n",
    "lr_precision = precision_score(y_test, y_pred)\n",
    "lr_recall = recall_score(y_test, y_pred)\n",
    "\n",
    "print(\"Classification Report:\\n\", classification_report(y_test, y_pred))\n",
    "print(\"Accuracy score: {:.2f}%\".format(100 * lr_accuracy))\n",
    "print(\"Precision score: {:.2f}%\".format(100 * lr_precision))\n",
    "print(\"Recall score: {:.2f}%\".format(100 * lr_recall))"
   ]
  },
  {
   "cell_type": "code",
   "execution_count": 6,
   "id": "7548beb5",
   "metadata": {},
   "outputs": [
    {
     "name": "stdout",
     "output_type": "stream",
     "text": [
      "Training Score for Logistic Regression: 0.9420\n",
      "Training Time for Logistic Regression: 0.18 s\n",
      "Crossval Mean Score for Logistic Regression: 0.9418\n"
     ]
    }
   ],
   "source": [
    "lr_train_score = lr.score(X_train, y_train)\n",
    "\n",
    "print(f\"Training Score for Logistic Regression: {lr_train_score:.4f}\")\n",
    "print(f\"Training Time for Logistic Regression: {lr_time:.2f} s\")\n",
    "\n",
    "log_scores = cross_val_score(lr, X_train, y_train, cv=3)\n",
    "lr_log_reg_mean = log_scores.mean()\n",
    "\n",
    "print(f\"Crossval Mean Score for Logistic Regression: {lr_log_reg_mean:.4f}\")"
   ]
  },
  {
   "cell_type": "markdown",
   "id": "80e93ae4",
   "metadata": {},
   "source": [
    "#### Confusion Matrix for Logistic Regression Model"
   ]
  },
  {
   "cell_type": "code",
   "execution_count": 7,
   "id": "0b6dccc5",
   "metadata": {},
   "outputs": [
    {
     "name": "stdout",
     "output_type": "stream",
     "text": [
      "Confusion Matrix:\n",
      "[[5299   32]\n",
      " [ 289   19]]\n"
     ]
    },
    {
     "data": {
      "image/png": "[encoded data removed]",
      "text/plain": [
       "<Figure size 1200x800 with 2 Axes>"
      ]
     },
     "metadata": {},
     "output_type": "display_data"
    }
   ],
   "source": [
    "conf_matrix = confusion_matrix(y_test, y_pred)\n",
    "fig, ax = plt.subplots(figsize=(12, 8))\n",
    "\n",
    "sns.heatmap(conf_matrix, annot=True, fmt=\"d\", linewidths=.5, ax=ax)\n",
    "plt.title(\"Confusion Matrix\", fontsize=20)\n",
    "plt.subplots_adjust(left=0.15, right=0.99, bottom=0.15, top=0.99)\n",
    "ax.set_yticks(np.arange(conf_matrix.shape[0]) + 0.5, minor=False)\n",
    "ax.set_xticklabels(\"\")\n",
    "ax.set_yticklabels(['Refused T. Deposits', 'Accepted T. Deposits'], fontsize=16, rotation=360)\n",
    "\n",
    "print(f\"Confusion Matrix:\\n{conf_matrix}\")"
   ]
  },
  {
   "cell_type": "markdown",
   "id": "e40da290",
   "metadata": {},
   "source": [
    "#### ROC Curve for Logistic Regression Model"
   ]
  },
  {
   "cell_type": "code",
   "execution_count": 8,
   "id": "c46fa296",
   "metadata": {},
   "outputs": [
    {
     "data": {
      "image/png": "[encoded data removed]",
      "text/plain": [
       "<Figure size 800x550 with 1 Axes>"
      ]
     },
     "metadata": {},
     "output_type": "display_data"
    }
   ],
   "source": [
    "y_pred_proba = lr.predict_proba(X_test)[:, 1]\n",
    "\n",
    "accuracy = accuracy_score(y_test, y_pred)\n",
    "precision = precision_score(y_test, y_pred)\n",
    "recall = recall_score(y_test, y_pred)\n",
    "conf_matrix = confusion_matrix(y_test, y_pred)\n",
    "\n",
    "fpr, tpr, thresholds = roc_curve(y_test, y_pred_proba)\n",
    "roc_auc = auc(fpr, tpr)\n",
    "\n",
    "plt.figure()\n",
    "plt.plot(fpr, tpr, color='darkorange', lw=2, label=f'ROC curve (area = {roc_auc:.2f})')\n",
    "plt.plot([0, 1], [0, 1], color='navy', lw=2, linestyle='--')\n",
    "plt.xlim([0.0, 1.0])\n",
    "plt.ylim([0.0, 1.05])\n",
    "plt.xlabel('False Positive Rate')\n",
    "plt.ylabel('True Positive Rate')\n",
    "plt.title('Receiver Operating Characteristic')\n",
    "plt.legend(loc=\"lower right\")\n",
    "plt.show()\n"
   ]
  },
  {
   "cell_type": "markdown",
   "id": "6cc34abd",
   "metadata": {},
   "source": [
    "#### Precision-Recall Curve for Logistic Regression"
   ]
  },
  {
   "cell_type": "code",
   "execution_count": 9,
   "id": "d10f9987",
   "metadata": {},
   "outputs": [
    {
     "data": {
      "image/png": "[encoded data removed]",
      "text/plain": [
       "<Figure size 800x600 with 1 Axes>"
      ]
     },
     "metadata": {},
     "output_type": "display_data"
    },
    {
     "name": "stdout",
     "output_type": "stream",
     "text": [
      "Best Threshold: 0.14\n",
      "Best F1 Score: 0.34\n"
     ]
    }
   ],
   "source": [
    "precisions, recalls, thresholds = precision_recall_curve(y_test, y_pred_proba)\n",
    "\n",
    "plt.figure(figsize=(8, 6))\n",
    "plt.plot(thresholds, precisions[:-1], label='Precision')\n",
    "plt.plot(thresholds, recalls[:-1], label='Recall')\n",
    "plt.xlabel('Threshold')\n",
    "plt.ylabel('Score')\n",
    "plt.title('Precision-Recall Curve')\n",
    "plt.xlim([0.0, 1.1])\n",
    "plt.ylim([0.0, 1.1])\n",
    "plt.legend()\n",
    "plt.grid()\n",
    "plt.show()\n",
    "\n",
    "f1_scores = 2 * (precisions * recalls) / (precisions + recalls)\n",
    "best_threshold_index = f1_scores.argmax()\n",
    "best_threshold = thresholds[best_threshold_index]\n",
    "\n",
    "print(f'Best Threshold: {best_threshold:.2f}')\n",
    "print(f'Best F1 Score: {f1_scores[best_threshold_index]:.2f}')"
   ]
  },
  {
   "cell_type": "markdown",
   "id": "ddecb807",
   "metadata": {},
   "source": [
    "## Training Models"
   ]
  },
  {
   "cell_type": "markdown",
   "id": "f8013a55-ea15-474e-9a9b-6d9be0b67880",
   "metadata": {},
   "source": [
    "### Logical Regression Classifier"
   ]
  },
  {
   "cell_type": "code",
   "execution_count": null,
   "id": "0240ddda",
   "metadata": {},
   "outputs": [],
   "source": [
    "lr_df = pd.read_csv('bank-full.csv', sep=';')\n",
    "\n",
    "categorical_columns = lr_df.select_dtypes(include=['object']).columns\n",
    "label_encoders = {}\n",
    "\n",
    "for column in categorical_columns:\n",
    "    le = LabelEncoder()\n",
    "    lr_df[column] = le.fit_transform(lr_df[column])\n",
    "    label_encoders[column] = le\n",
    "\n",
    "X = lr_df.drop('y', axis=1)\n",
    "y = lr_df['y']\n",
    "\n",
    "X_train, X_test, y_train, y_test = train_test_split(X, y, test_size=0.2, random_state=42)\n",
    "\n",
    "lr = LogisticRegression(random_state=42, max_iter=1000, solver='liblinear', C=1.0)\n",
    "time_start = time.time()\n",
    "lr.fit(X_train, y_train)\n",
    "time_end = time.time()\n",
    "lr_time = time_end - time_start\n",
    "\n",
    "y_pred = lr.predict(X_test)\n",
    "lr_accuracy = accuracy_score(y_test, y_pred)\n",
    "lr_precision = precision_score(y_test, y_pred)\n",
    "lr_recall = recall_score(y_test, y_pred)\n",
    "\n",
    "print(\"Classification Report:\\n\", classification_report(y_test, y_pred))\n",
    "print(\"Accuracy score: {:.2f}%\".format(100 * lr_accuracy))\n",
    "print(\"Precision score: {:.2f}%\".format(100 * lr_precision))\n",
    "print(\"Recall score: {:.2f}%\".format(100 * lr_recall))"
   ]
  },
  {
   "cell_type": "code",
   "execution_count": null,
   "id": "0e5ba2b4",
   "metadata": {},
   "outputs": [],
   "source": [
    "lr_train_score = lr.score(X_train, y_train)\n",
    "\n",
    "print(f\"Training Score for Logistic Regression: {lr_train_score:.4f}\")\n",
    "print(f\"Training Time for Logistic Regression: {lr_time:.2f} s\")\n",
    "\n",
    "log_scores = cross_val_score(lr, X_train, y_train, cv=3)\n",
    "lr_log_reg_mean = log_scores.mean()\n",
    "\n",
    "print(f\"Crossval Mean Score for Logistic Regression: {lr_log_reg_mean:.4f}\")"
   ]
  },
  {
   "cell_type": "markdown",
   "id": "d8ec2e20-5928-4d05-a8ab-d8342005f3fc",
   "metadata": {},
   "source": [
    "#### Confusion Matrix for Logistic Regression Model"
   ]
  },
  {
   "cell_type": "code",
   "execution_count": null,
   "id": "19477433-d412-40ed-a10e-be5c99e9c034",
   "metadata": {},
   "outputs": [],
   "source": [
    "conf_matrix = confusion_matrix(y_test, y_pred)\n",
    "fig, ax = plt.subplots(figsize=(12, 8))\n",
    "\n",
    "sns.heatmap(conf_matrix, annot=True, fmt=\"d\", linewidths=.5, ax=ax)\n",
    "plt.title(\"Confusion Matrix\", fontsize=20)\n",
    "plt.subplots_adjust(left=0.15, right=0.99, bottom=0.15, top=0.99)\n",
    "ax.set_yticks(np.arange(conf_matrix.shape[0]) + 0.5, minor=False)\n",
    "ax.set_xticklabels(\"\")\n",
    "ax.set_yticklabels(['Refused T. Deposits', 'Accepted T. Deposits'], fontsize=16, rotation=360)\n",
    "\n",
    "print(f\"Confusion Matrix:\\n{conf_matrix}\")"
   ]
  },
  {
   "cell_type": "markdown",
   "id": "f181e05a",
   "metadata": {},
   "source": [
    "#### ROC Curve for Logistic Regression Model"
   ]
  },
  {
   "cell_type": "code",
   "execution_count": null,
   "id": "602e977d",
   "metadata": {},
   "outputs": [],
   "source": [
    "y_pred_proba = lr.predict_proba(X_test)[:, 1]\n",
    "\n",
    "accuracy = accuracy_score(y_test, y_pred)\n",
    "precision = precision_score(y_test, y_pred)\n",
    "recall = recall_score(y_test, y_pred)\n",
    "conf_matrix = confusion_matrix(y_test, y_pred)\n",
    "\n",
    "fpr, tpr, thresholds = roc_curve(y_test, y_pred_proba)\n",
    "roc_auc = auc(fpr, tpr)\n",
    "\n",
    "plt.figure()\n",
    "plt.plot(fpr, tpr, color='darkorange', lw=2, label=f'ROC curve (area = {roc_auc:.2f})')\n",
    "plt.plot([0, 1], [0, 1], color='navy', lw=2, linestyle='--')\n",
    "plt.xlim([0.0, 1.0])\n",
    "plt.ylim([0.0, 1.05])\n",
    "plt.xlabel('False Positive Rate')\n",
    "plt.ylabel('True Positive Rate')\n",
    "plt.title('Receiver Operating Characteristic')\n",
    "plt.legend(loc=\"lower right\")\n",
    "plt.show()\n"
   ]
  },
  {
   "cell_type": "markdown",
   "id": "104e4963",
   "metadata": {},
   "source": [
    "#### Precision-Recall Curve for Logistic Regression"
   ]
  },
  {
   "cell_type": "code",
   "execution_count": null,
   "id": "42db63b1",
   "metadata": {},
   "outputs": [],
   "source": [
    "precisions, recalls, thresholds = precision_recall_curve(y_test, y_pred_proba)\n",
    "\n",
    "plt.figure(figsize=(8, 6))\n",
    "plt.plot(thresholds, precisions[:-1], label='Precision')\n",
    "plt.plot(thresholds, recalls[:-1], label='Recall')\n",
    "plt.xlabel('Threshold')\n",
    "plt.ylabel('Score')\n",
    "plt.title('Precision-Recall Curve')\n",
    "plt.xlim([0.0, 1.1])\n",
    "plt.ylim([0.0, 1.1])\n",
    "plt.legend()\n",
    "plt.grid()\n",
    "plt.show()\n",
    "\n",
    "f1_scores = 2 * (precisions * recalls) / (precisions + recalls)\n",
    "best_threshold_index = f1_scores.argmax()\n",
    "best_threshold = thresholds[best_threshold_index]\n",
    "\n",
    "print(f'Best Threshold: {best_threshold:.2f}')\n",
    "print(f'Best F1 Score: {f1_scores[best_threshold_index]:.2f}')"
   ]
  },
  {
   "cell_type": "markdown",
   "id": "a5319dbb",
   "metadata": {},
   "source": [
    "### Decision Tree Classifier"
   ]
  },
  {
   "cell_type": "code",
   "execution_count": null,
   "id": "538a226d",
   "metadata": {},
   "outputs": [],
   "source": [
    "dt_df = pd.read_csv('bank-full.csv', sep=';')\n",
    "\n",
    "categorical_columns = dt_df.select_dtypes(include=['object']).columns\n",
    "label_encoders = {}\n",
    "\n",
    "for column in categorical_columns:\n",
    "    le = LabelEncoder()\n",
    "    dt_df[column] = le.fit_transform(dt_df[column])\n",
    "    label_encoders[column] = le\n",
    "\n",
    "X = dt_df.drop('y', axis=1)\n",
    "y = dt_df['y']\n",
    "\n",
    "X_train, X_test, y_train, y_test = train_test_split(X, y, test_size=0.2, random_state=42)\n",
    "\n",
    "dt = DecisionTreeClassifier(\n",
    "    class_weight='balanced',\n",
    "    min_weight_fraction_leaf = 0.01\n",
    ")\n",
    "time_start = time.time()\n",
    "dt.fit(X_train, y_train)\n",
    "time_end = time.time()\n",
    "dt_time = time_end - time_start\n",
    "\n",
    "y_pred = dt.predict(X_test)\n",
    "dt_accuracy = accuracy_score(y_test, y_pred)\n",
    "dt_precision = precision_score(y_test, y_pred)\n",
    "dt_recall = recall_score(y_test, y_pred)\n",
    "\n",
    "print(\"Classification Report:\\n\", classification_report(y_test, y_pred))\n",
    "print(\"Accuracy score: {:.2f}%\".format(100 * dt_accuracy))\n",
    "print(\"Precision score: {:.2f}%\".format(100 * dt_precision))\n",
    "print(\"Recall score: {:.2f}%\".format(100 * dt_recall))"
   ]
  },
  {
   "cell_type": "code",
   "execution_count": null,
   "id": "fa51053c",
   "metadata": {},
   "outputs": [],
   "source": [
    "dt_train_score = dt.score(X_train, y_train)\n",
    "\n",
    "print(f\"Training Score for Decision Tree: {dt_train_score:.4f}\")\n",
    "print(f\"Training Time for Decision Tree: {dt_time:.2f} s\")\n",
    "\n",
    "log_scores = cross_val_score(dt, X_train, y_train, cv=3)\n",
    "dt_log_reg_mean = log_scores.mean()\n",
    "\n",
    "print(f\"Crossval Mean Score for Decision Tree: {dt_log_reg_mean:.4f}\")"
   ]
  },
  {
   "cell_type": "markdown",
   "id": "4c131b16",
   "metadata": {},
   "source": [
    "#### Confusion Matrix for Decision Tree"
   ]
  },
  {
   "cell_type": "code",
   "execution_count": null,
   "id": "0ce7e3e4",
   "metadata": {},
   "outputs": [],
   "source": [
    "conf_matrix = confusion_matrix(y_test, y_pred)\n",
    "fig, ax = plt.subplots(figsize=(12, 8))\n",
    "\n",
    "sns.heatmap(conf_matrix, annot=True, fmt=\"d\", linewidths=.5, ax=ax)\n",
    "plt.title(\"Confusion Matrix\", fontsize=20)\n",
    "plt.subplots_adjust(left=0.15, right=0.99, bottom=0.15, top=0.99)\n",
    "ax.set_yticks(np.arange(conf_matrix.shape[0]) + 0.5, minor=False)\n",
    "ax.set_xticklabels(\"\")\n",
    "ax.set_yticklabels(['Refused T. Deposits', 'Accepted T. Deposits'], fontsize=16, rotation=360)\n",
    "\n",
    "print(f\"Confusion Matrix:\\n{conf_matrix}\")"
   ]
  },
  {
   "cell_type": "markdown",
   "id": "055276e4",
   "metadata": {},
   "source": [
    "#### ROC Curve for Decision Tree"
   ]
  },
  {
   "cell_type": "code",
   "execution_count": null,
   "id": "86807d2b",
   "metadata": {},
   "outputs": [],
   "source": [
    "y_pred_proba = dt.predict_proba(X_test)[:, 1]\n",
    "\n",
    "accuracy = accuracy_score(y_test, y_pred)\n",
    "precision = precision_score(y_test, y_pred)\n",
    "recall = recall_score(y_test, y_pred)\n",
    "conf_matrix = confusion_matrix(y_test, y_pred)\n",
    "\n",
    "fpr, tpr, thresholds = roc_curve(y_test, y_pred_proba)\n",
    "roc_auc = auc(fpr, tpr)\n",
    "\n",
    "plt.figure()\n",
    "plt.plot(fpr, tpr, color='darkorange', lw=2, label=f'ROC curve (area = {roc_auc:.2f})')\n",
    "plt.plot([0, 1], [0, 1], color='navy', lw=2, linestyle='--')\n",
    "plt.xlim([0.0, 1.0])\n",
    "plt.ylim([0.0, 1.05])\n",
    "plt.xlabel('False Positive Rate')\n",
    "plt.ylabel('True Positive Rate')\n",
    "plt.title('Receiver Operating Characteristic')\n",
    "plt.legend(loc=\"lower right\")\n",
    "plt.show()"
   ]
  },
  {
   "cell_type": "markdown",
   "id": "ff5462e1",
   "metadata": {},
   "source": [
    "#### Precision-Recall Curve for Decision Tree"
   ]
  },
  {
   "cell_type": "code",
   "execution_count": null,
   "id": "c8d3f23e",
   "metadata": {},
   "outputs": [],
   "source": [
    "precisions, recalls, thresholds = precision_recall_curve(y_test, y_pred_proba)\n",
    "\n",
    "plt.figure(figsize=(8, 6))\n",
    "plt.plot(thresholds, precisions[:-1], label='Precision')\n",
    "plt.plot(thresholds, recalls[:-1], label='Recall')\n",
    "plt.xlabel('Threshold')\n",
    "plt.ylabel('Score')\n",
    "plt.title('Precision-Recall Curve')\n",
    "plt.xlim([0.0, 1.0])\n",
    "plt.ylim([0.0, 1.0])\n",
    "plt.legend()\n",
    "plt.grid()\n",
    "plt.show()\n",
    "\n",
    "f1_scores = 2 * (precisions * recalls) / (precisions + recalls)\n",
    "best_threshold_index = f1_scores.argmax()\n",
    "best_threshold = thresholds[best_threshold_index]\n",
    "\n",
    "print(f'Best Threshold: {best_threshold:.2f}')\n",
    "print(f'Best F1 Score: {f1_scores[best_threshold_index]:.2f}')"
   ]
  },
  {
   "cell_type": "markdown",
   "id": "2af48b6a",
   "metadata": {},
   "source": [
    "#### Generated Decision Tree"
   ]
  },
  {
   "cell_type": "code",
   "execution_count": null,
   "id": "5f6b475f",
   "metadata": {},
   "outputs": [],
   "source": [
    "#plt.figure(figsize=(20, 10))\n",
    "#tree.plot_tree(dt, feature_names=X.columns, class_names=['no', 'yes'], filled=True)\n",
    "#plt.title('Decision Tree for Bank Marketing Campaign')\n",
    "#plt.show()"
   ]
  },
  {
   "cell_type": "markdown",
   "id": "32bf4a0f",
   "metadata": {},
   "source": [
    "#### Finding importance rate of each feature in Decision Tree"
   ]
  },
  {
   "cell_type": "code",
   "execution_count": null,
   "id": "76aeff29",
   "metadata": {},
   "outputs": [],
   "source": [
    "term_deposits = df.copy()\n",
    "\n",
    "term_deposits['job'] = term_deposits['job'].astype('category').cat.codes\n",
    "term_deposits['marital'] = term_deposits['marital'].astype('category').cat.codes\n",
    "term_deposits['education'] = term_deposits['education'].astype('category').cat.codes\n",
    "term_deposits['contact'] = term_deposits['contact'].astype('category').cat.codes\n",
    "term_deposits['poutcome'] = term_deposits['poutcome'].astype('category').cat.codes\n",
    "term_deposits['month'] = term_deposits['month'].astype('category').cat.codes\n",
    "term_deposits['default'] = term_deposits['default'].astype('category').cat.codes\n",
    "term_deposits['loan'] = term_deposits['loan'].astype('category').cat.codes\n",
    "term_deposits['housing'] = term_deposits['housing'].astype('category').cat.codes\n",
    "\n",
    "target_name = 'y'\n",
    "X = term_deposits.drop('y', axis=1)\n",
    "\n",
    "label=term_deposits[target_name]\n",
    "\n",
    "X_train, X_test, y_train, y_test = train_test_split(X,label,test_size=0.2, random_state=42, stratify=label)\n",
    "\n",
    "tree = DecisionTreeClassifier(\n",
    "    class_weight='balanced',\n",
    "    min_weight_fraction_leaf = 0.01\n",
    ")\n",
    "\n",
    "tree = tree.fit(X_train, y_train)\n",
    "importances = tree.feature_importances_\n",
    "feature_names = term_deposits.drop('y', axis=1).columns\n",
    "indices = np.argsort(importances)[::-1]\n",
    "\n",
    "print(\"Feature importance ranking:\")\n",
    "\n",
    "for f in range(X_train.shape[1]):\n",
    "    print(\"%d. Feature %d (%f)\" % (f + 1, indices[f], importances[indices[f]]))\n",
    "\n",
    "def feature_importance_graph(indices, importances, feature_names):\n",
    "    plt.figure(figsize=(12,6))\n",
    "    plt.title(\"Determining Feature importances \\n with Decision Tree Classifier\", fontsize=18)\n",
    "    plt.barh(range(len(indices)), importances[indices], color='#31B173',  align=\"center\")\n",
    "    plt.yticks(range(len(indices)), feature_names[indices], rotation='horizontal',fontsize=14)\n",
    "    plt.ylim([-1, len(indices)])\n",
    "    \n",
    "feature_importance_graph(indices, importances, feature_names)\n",
    "plt.show()"
   ]
  },
  {
   "cell_type": "markdown",
   "id": "b5543669",
   "metadata": {},
   "source": [
    "### GradientBoosting Classifier"
   ]
  },
  {
   "cell_type": "code",
   "execution_count": null,
   "id": "73e4cc78",
   "metadata": {},
   "outputs": [],
   "source": [
    "gb_df = pd.read_csv('bank-full.csv', sep=';')\n",
    "\n",
    "categorical_columns = gb_df.select_dtypes(include=['object']).columns\n",
    "label_encoders = {}\n",
    "\n",
    "for column in categorical_columns:\n",
    "    le = LabelEncoder()\n",
    "    gb_df[column] = le.fit_transform(gb_df[column])\n",
    "    label_encoders[column] = le\n",
    "\n",
    "X = gb_df.drop('y', axis=1)\n",
    "y = gb_df['y']\n",
    "\n",
    "X_train, X_test, y_train, y_test = train_test_split(X, y, test_size=0.2, random_state=42)\n",
    "\n",
    "gb = GradientBoostingClassifier(random_state=42)\n",
    "time_start = time.time()\n",
    "gb.fit(X_train, y_train)\n",
    "time_end = time.time()\n",
    "gb_time = time_end - time_start\n",
    "\n",
    "y_pred = gb.predict(X_test)\n",
    "gb_accuracy = accuracy_score(y_test, y_pred)\n",
    "gb_precision = precision_score(y_test, y_pred)\n",
    "gb_recall = recall_score(y_test, y_pred)\n",
    "\n",
    "print(\"Classification Report:\\n\", classification_report(y_test, y_pred))\n",
    "print(\"Accuracy score: {:.2f}%\".format(100 * gb_accuracy))\n",
    "print(\"Precision score: {:.2f}%\".format(100 * gb_precision))\n",
    "print(\"Recall score: {:.2f}%\".format(100 * gb_recall))"
   ]
  },
  {
   "cell_type": "code",
   "execution_count": null,
   "id": "6de15afd",
   "metadata": {},
   "outputs": [],
   "source": [
    "gb_train_score = gb.score(X_train, y_train)\n",
    "\n",
    "print(f\"Training Score for Gradient Boosting: {gb_train_score:.4f}\")\n",
    "print(f\"Training Time for Gradient Boosting: {gb_time:.2f} s\")\n",
    "\n",
    "log_scores = cross_val_score(gb, X_train, y_train, cv=3)\n",
    "gb_log_reg_mean = log_scores.mean()\n",
    "\n",
    "print(f\"Crossval Mean Score for Gradient Boosting: {gb_log_reg_mean:.4f}\")"
   ]
  },
  {
   "cell_type": "markdown",
   "id": "c156e4cc",
   "metadata": {},
   "source": [
    "#### Confusion Matrix for Gradient Boosting"
   ]
  },
  {
   "cell_type": "code",
   "execution_count": null,
   "id": "46cd3fc5",
   "metadata": {},
   "outputs": [],
   "source": [
    "conf_matrix = confusion_matrix(y_test, y_pred)\n",
    "fig, ax = plt.subplots(figsize=(12, 8))\n",
    "\n",
    "sns.heatmap(conf_matrix, annot=True, fmt=\"d\", linewidths=.5, ax=ax)\n",
    "plt.title(\"Confusion Matrix\", fontsize=20)\n",
    "plt.subplots_adjust(left=0.15, right=0.99, bottom=0.15, top=0.99)\n",
    "ax.set_yticks(np.arange(conf_matrix.shape[0]) + 0.5, minor=False)\n",
    "ax.set_xticklabels(\"\")\n",
    "ax.set_yticklabels(['Refused T. Deposits', 'Accepted T. Deposits'], fontsize=16, rotation=360)\n",
    "\n",
    "print(f\"Confusion Matrix:\\n{conf_matrix}\")"
   ]
  },
  {
   "cell_type": "markdown",
   "id": "38aebc16",
   "metadata": {},
   "source": [
    "#### ROC Curve for Gradient Boosting"
   ]
  },
  {
   "cell_type": "code",
   "execution_count": null,
   "id": "8d6fa459",
   "metadata": {},
   "outputs": [],
   "source": [
    "y_pred_proba = gb.predict_proba(X_test)[:, 1]\n",
    "\n",
    "accuracy = accuracy_score(y_test, y_pred)\n",
    "precision = precision_score(y_test, y_pred)\n",
    "recall = recall_score(y_test, y_pred)\n",
    "conf_matrix = confusion_matrix(y_test, y_pred)\n",
    "\n",
    "fpr, tpr, thresholds = roc_curve(y_test, y_pred_proba)\n",
    "roc_auc = auc(fpr, tpr)\n",
    "\n",
    "plt.figure()\n",
    "plt.plot(fpr, tpr, color='darkorange', lw=2, label=f'ROC curve (area = {roc_auc:.2f})')\n",
    "plt.plot([0, 1], [0, 1], color='navy', lw=2, linestyle='--')\n",
    "plt.xlim([0.0, 1.0])\n",
    "plt.ylim([0.0, 1.05])\n",
    "plt.xlabel('False Positive Rate')\n",
    "plt.ylabel('True Positive Rate')\n",
    "plt.title('Receiver Operating Characteristic')\n",
    "plt.legend(loc=\"lower right\")\n",
    "plt.show()"
   ]
  },
  {
   "cell_type": "markdown",
   "id": "3e037e1c",
   "metadata": {},
   "source": [
    "#### Precision-Recall Curve for Gradient Boosting"
   ]
  },
  {
   "cell_type": "code",
   "execution_count": null,
   "id": "c76ca3af",
   "metadata": {},
   "outputs": [],
   "source": [
    "precisions, recalls, thresholds = precision_recall_curve(y_test, y_pred_proba)\n",
    "\n",
    "plt.figure(figsize=(8, 6))\n",
    "plt.plot(thresholds, precisions[:-1], label='Precision')\n",
    "plt.plot(thresholds, recalls[:-1], label='Recall')\n",
    "plt.xlabel('Threshold')\n",
    "plt.ylabel('Score')\n",
    "plt.title('Precision-Recall Curve')\n",
    "plt.xlim([0.0, 1.1])\n",
    "plt.ylim([0.0, 1.1])\n",
    "plt.legend()\n",
    "plt.grid()\n",
    "plt.show()\n",
    "\n",
    "f1_scores = 2 * (precisions * recalls) / (precisions + recalls)\n",
    "best_threshold_index = f1_scores.argmax()\n",
    "best_threshold = thresholds[best_threshold_index]\n",
    "\n",
    "print(f'Best Threshold: {best_threshold:.2f}')\n",
    "print(f'Best F1 Score: {f1_scores[best_threshold_index]:.2f}')\n"
   ]
  },
  {
   "cell_type": "markdown",
   "id": "f62a9c99",
   "metadata": {},
   "source": [
    "### Classifiers comparison"
   ]
  },
  {
   "cell_type": "code",
   "execution_count": null,
   "id": "1b752485",
   "metadata": {},
   "outputs": [],
   "source": [
    "models              = ['Logical Regression', 'Decision Tree', 'Gradient Boosting']\n",
    "accuracy            = [lr_accuracy * 100, dt_accuracy * 100, gb_accuracy * 100]\n",
    "precision           = [lr_precision * 100, dt_precision * 100, gb_precision * 100]\n",
    "recall              = [lr_recall * 100, dt_recall * 100, gb_recall * 100]\n",
    "train_score         = [lr_train_score * 100, dt_train_score * 100, gb_train_score * 100]\n",
    "train_time          = [lr_time, dt_time, gb_time]\n",
    "crossval_mean_score = [lr_log_reg_mean, dt_log_reg_mean, gb_log_reg_mean]\n",
    "\n",
    "def percent(x, pos):\n",
    "    return '%1.0f%%' % x\n",
    "\n",
    "def seconds(x, pos):\n",
    "    return '%1.1f s' % x\n",
    "\n",
    "fig, axs = plt.subplots(3, 2, figsize=(14, 10))\n",
    "\n",
    "axs[0, 0].bar(models, accuracy, color=['royalblue', 'cornflowerblue', 'lightsteelblue'])\n",
    "axs[0, 0].set_title('Accuracy')\n",
    "axs[0, 0].set_ylabel('Accuracy percent')\n",
    "axs[0, 0].set_ylim(0, 100)\n",
    "axs[0, 0].yaxis.set_major_formatter(FuncFormatter(percent))\n",
    "\n",
    "axs[0, 1].bar(models, precision, color=['royalblue', 'cornflowerblue', 'lightsteelblue'])\n",
    "axs[0, 1].set_title('Precision')\n",
    "axs[0, 1].set_ylabel('Precision percent')\n",
    "axs[0, 1].set_ylim(0, 100)\n",
    "axs[0, 1].yaxis.set_major_formatter(FuncFormatter(percent))\n",
    "\n",
    "axs[1, 0].bar(models, recall, color=['royalblue', 'cornflowerblue', 'lightsteelblue'])\n",
    "axs[1, 0].set_title('Recall')\n",
    "axs[1, 0].set_ylabel('Recall percent')\n",
    "axs[1, 0].set_ylim(0, 100)\n",
    "axs[1, 0].yaxis.set_major_formatter(FuncFormatter(percent))\n",
    "\n",
    "axs[1, 1].bar(models, train_score, color=['royalblue', 'cornflowerblue', 'lightsteelblue'])\n",
    "axs[1, 1].set_title('Train Score')\n",
    "axs[1, 1].set_ylabel('Train Score')\n",
    "axs[1, 1].set_ylim(0, 100)\n",
    "axs[1, 1].yaxis.set_major_formatter(FuncFormatter(percent))\n",
    "\n",
    "axs[2, 0].bar(models, train_time, color=['royalblue', 'cornflowerblue', 'lightsteelblue'])\n",
    "axs[2, 0].set_title('Train Time')\n",
    "axs[2, 0].set_ylabel('Train Time')\n",
    "axs[2, 0].set_ylim(0, max(train_time) + 0.1)\n",
    "axs[2, 0].yaxis.set_major_formatter(FuncFormatter(seconds))\n",
    "\n",
    "axs[2, 1].bar(models, crossval_mean_score, color=['royalblue', 'cornflowerblue', 'lightsteelblue'])\n",
    "axs[2, 1].set_title('Crossval Mean Score')\n",
    "axs[2, 1].set_ylabel('Score')\n",
    "axs[2, 1].set_ylim(0, 1)\n",
    "\n",
    "plt.tight_layout()\n",
    "plt.show()"
   ]
  },
  {
   "cell_type": "markdown",
   "id": "8cc1ed35",
   "metadata": {},
   "source": [
    "## Training Models with SMOTE (oversampling)"
   ]
  },
  {
   "cell_type": "markdown",
   "id": "7bdd8e07",
   "metadata": {},
   "source": [
    "### Logistic Regression"
   ]
  },
  {
   "cell_type": "code",
   "execution_count": null,
   "id": "295864bc",
   "metadata": {},
   "outputs": [],
   "source": [
    "lr_df = pd.read_csv('bank-full.csv', sep=';')\n",
    "\n",
    "categorical_columns = lr_df.select_dtypes(include=['object']).columns\n",
    "label_encoders = {}\n",
    "\n",
    "for column in categorical_columns:\n",
    "    le = LabelEncoder()\n",
    "    lr_df[column] = le.fit_transform(lr_df[column])\n",
    "    label_encoders[column] = le\n",
    "\n",
    "X = lr_df.drop('y', axis=1)\n",
    "y = lr_df['y']\n",
    "\n",
    "X_train, X_test, y_train, y_test = train_test_split(X, y, test_size=0.2, random_state=42)\n",
    "\n",
    "smote = SMOTE(random_state=42)\n",
    "X_train_res, y_train_res = smote.fit_resample(X_train, y_train)\n",
    "\n",
    "lr = LogisticRegression(random_state=42, max_iter=1000, solver='liblinear', C=1.0)\n",
    "time_start = time.time()\n",
    "lr.fit(X_train_res, y_train_res)\n",
    "time_end = time.time()\n",
    "smote_lr_time = time_end - time_start\n",
    "\n",
    "y_pred_prob = lr.predict_proba(X_test)[:, 1]\n",
    "\n",
    "precisions, recalls, thresholds = precision_recall_curve(y_test, y_pred_prob)\n",
    "\n",
    "plt.figure(figsize=(8, 6))\n",
    "plt.plot(thresholds, precisions[:-1], label='Precision')\n",
    "plt.plot(thresholds, recalls[:-1], label='Recall')\n",
    "plt.xlabel('Threshold')\n",
    "plt.ylabel('Score')\n",
    "plt.title('Precision-Recall Curve')\n",
    "plt.xlim([0.0, 1.1])\n",
    "plt.ylim([0.0, 1.1])\n",
    "plt.legend()\n",
    "plt.grid()\n",
    "plt.show()\n",
    "\n",
    "f1_scores = 2 * (precisions * recalls) / (precisions + recalls)\n",
    "best_threshold_index = f1_scores.argmax()\n",
    "best_threshold = thresholds[best_threshold_index]\n",
    "\n",
    "print(f'Best Threshold: {best_threshold:.2f}')\n",
    "print(f'Best F1 Score: {f1_scores[best_threshold_index]:.2f}')\n",
    "\n",
    "y_pred = (y_pred_prob >= best_threshold).astype(int)\n",
    "\n",
    "smote_lr_accuracy = accuracy_score(y_test, y_pred)\n",
    "smote_lr_precision = precision_score(y_test, y_pred)\n",
    "smote_lr_recall = recall_score(y_test, y_pred)\n",
    "\n",
    "print(\"Classification Report:\\n\", classification_report(y_test, y_pred))\n",
    "print(\"Accuracy score: {:.2f}%\".format(100 * smote_lr_accuracy))\n",
    "print(\"Precision score: {:.2f}%\".format(100 * smote_lr_precision))\n",
    "print(\"Recall score: {:.2f}%\".format(100 * smote_lr_recall))"
   ]
  },
  {
   "cell_type": "code",
   "execution_count": null,
   "id": "d17c1a14",
   "metadata": {},
   "outputs": [],
   "source": [
    "smote_lr_train_score = lr.score(X_train, y_train)\n",
    "\n",
    "print(f\"Training Score for Logistic Regression with SMOTE: {smote_lr_train_score:.4f}\")\n",
    "print(f\"Training Time for Logistic Regression with SMOTE: {smote_lr_time:.2f} s\")\n",
    "\n",
    "log_scores = cross_val_score(lr, X_train, y_train, cv=3)\n",
    "smote_lr_log_reg_mean = log_scores.mean()\n",
    "\n",
    "print(f\"Crossval Mean Score for Logistic Regression with SMOTE: {smote_lr_log_reg_mean:.4f}\")"
   ]
  },
  {
   "cell_type": "markdown",
   "id": "3c9b2c9e",
   "metadata": {},
   "source": [
    "### Decision Tree"
   ]
  },
  {
   "cell_type": "code",
   "execution_count": null,
   "id": "18dc84bb",
   "metadata": {},
   "outputs": [],
   "source": [
    "dt_df = pd.read_csv('bank-full.csv', sep=';')\n",
    "\n",
    "categorical_columns = dt_df.select_dtypes(include=['object']).columns\n",
    "label_encoders = {}\n",
    "\n",
    "for column in categorical_columns:\n",
    "    le = LabelEncoder()\n",
    "    dt_df[column] = le.fit_transform(dt_df[column])\n",
    "    label_encoders[column] = le\n",
    "\n",
    "X = dt_df.drop('y', axis=1)\n",
    "y = dt_df['y']\n",
    "\n",
    "X_train, X_test, y_train, y_test = train_test_split(X, y, test_size=0.2, random_state=42)\n",
    "\n",
    "smote = SMOTE(random_state=42)\n",
    "X_train_res, y_train_res = smote.fit_resample(X_train, y_train)\n",
    "\n",
    "dt = DecisionTreeClassifier(\n",
    "    class_weight='balanced',\n",
    "    min_weight_fraction_leaf = 0.01\n",
    ")\n",
    "time_start = time.time()\n",
    "dt.fit(X_train_res, y_train_res)\n",
    "time_end = time.time()\n",
    "smote_dt_time = time_end - time_start\n",
    "\n",
    "y_pred_prob = dt.predict_proba(X_test)[:, 1]\n",
    "\n",
    "precisions, recalls, thresholds = precision_recall_curve(y_test, y_pred_prob)\n",
    "\n",
    "plt.figure(figsize=(8, 6))\n",
    "plt.plot(thresholds, precisions[:-1], label='Precision')\n",
    "plt.plot(thresholds, recalls[:-1], label='Recall')\n",
    "plt.xlabel('Threshold')\n",
    "plt.ylabel('Score')\n",
    "plt.title('Precision-Recall Curve')\n",
    "plt.xlim([0.0, 1.1])\n",
    "plt.ylim([0.0, 1.1])\n",
    "plt.legend()\n",
    "plt.grid()\n",
    "plt.show()\n",
    "\n",
    "f1_scores = 2 * (precisions * recalls) / (precisions + recalls)\n",
    "best_threshold_index = f1_scores.argmax()\n",
    "best_threshold = thresholds[best_threshold_index]\n",
    "\n",
    "print(f'Best Threshold: {best_threshold:.2f}')\n",
    "print(f'Best F1 Score: {f1_scores[best_threshold_index]:.2f}')\n",
    "\n",
    "y_pred = (y_pred_prob >= best_threshold).astype(int)\n",
    "\n",
    "smote_dt_accuracy = accuracy_score(y_test, y_pred)\n",
    "smote_dt_precision = precision_score(y_test, y_pred)\n",
    "smote_dt_recall = recall_score(y_test, y_pred)\n",
    "\n",
    "print(\"Classification Report:\\n\", classification_report(y_test, y_pred))\n",
    "print(\"Accuracy score: {:.2f}%\".format(100 * smote_dt_accuracy))\n",
    "print(\"Precision score: {:.2f}%\".format(100 * smote_dt_precision))\n",
    "print(\"Recall score: {:.2f}%\".format(100 * smote_dt_recall))"
   ]
  },
  {
   "cell_type": "code",
   "execution_count": null,
   "id": "544557a3",
   "metadata": {},
   "outputs": [],
   "source": [
    "smote_dt_train_score = dt.score(X_train, y_train)\n",
    "\n",
    "print(f\"Training Score for Decision Tree with SMOTE: {smote_dt_train_score:.4f}\")\n",
    "print(f\"Training Time for Decision Tree with SMOTE: {smote_dt_time:.2f} s\")\n",
    "\n",
    "log_scores = cross_val_score(dt, X_train, y_train, cv=3)\n",
    "smote_dt_log_reg_mean = log_scores.mean()\n",
    "\n",
    "print(f\"Crossval Mean Score for Decision Tree with SMOTE: {smote_dt_log_reg_mean:.4f}\")"
   ]
  },
  {
   "cell_type": "markdown",
   "id": "031c283d",
   "metadata": {},
   "source": [
    "### Gradient Boosting"
   ]
  },
  {
   "cell_type": "code",
   "execution_count": null,
   "id": "1584884e",
   "metadata": {},
   "outputs": [],
   "source": [
    "gb_df = pd.read_csv('bank-full.csv', sep=';')\n",
    "\n",
    "categorical_columns = gb_df.select_dtypes(include=['object']).columns\n",
    "label_encoders = {}\n",
    "\n",
    "for column in categorical_columns:\n",
    "    le = LabelEncoder()\n",
    "    gb_df[column] = le.fit_transform(gb_df[column])\n",
    "    label_encoders[column] = le\n",
    "\n",
    "X = gb_df.drop('y', axis=1)\n",
    "y = gb_df['y']\n",
    "\n",
    "X_train, X_test, y_train, y_test = train_test_split(X, y, test_size=0.2, random_state=42)\n",
    "\n",
    "smote = SMOTE(random_state=42)\n",
    "X_train_res, y_train_res = smote.fit_resample(X_train, y_train)\n",
    "\n",
    "gb = GradientBoostingClassifier(random_state=42)\n",
    "time_start = time.time()\n",
    "gb.fit(X_train_res, y_train_res)\n",
    "time_end = time.time()\n",
    "smote_gb_time = time_end - time_start\n",
    "\n",
    "y_pred_prob = gb.predict_proba(X_test)[:, 1]\n",
    "\n",
    "precisions, recalls, thresholds = precision_recall_curve(y_test, y_pred_prob)\n",
    "\n",
    "plt.figure(figsize=(8, 6))\n",
    "plt.plot(thresholds, precisions[:-1], label='Precision')\n",
    "plt.plot(thresholds, recalls[:-1], label='Recall')\n",
    "plt.xlabel('Threshold')\n",
    "plt.ylabel('Score')\n",
    "plt.title('Precision-Recall Curve')\n",
    "plt.xlim([0.0, 1.1])\n",
    "plt.ylim([0.0, 1.1])\n",
    "plt.legend()\n",
    "plt.grid()\n",
    "plt.show()\n",
    "\n",
    "f1_scores = 2 * (precisions * recalls) / (precisions + recalls)\n",
    "best_threshold_index = f1_scores.argmax()\n",
    "best_threshold = thresholds[best_threshold_index]\n",
    "\n",
    "print(f'Best Threshold: {best_threshold:.2f}')\n",
    "print(f'Best F1 Score: {f1_scores[best_threshold_index]:.2f}')\n",
    "\n",
    "y_pred = (y_pred_prob >= best_threshold).astype(int)\n",
    "\n",
    "smote_gb_accuracy = accuracy_score(y_test, y_pred)\n",
    "smote_gb_precision = precision_score(y_test, y_pred)\n",
    "smote_gb_recall = recall_score(y_test, y_pred)\n",
    "\n",
    "print(\"Classification Report:\\n\", classification_report(y_test, y_pred))\n",
    "print(\"Accuracy score: {:.2f}%\".format(100 * smote_gb_accuracy))\n",
    "print(\"Precision score: {:.2f}%\".format(100 * smote_gb_precision))\n",
    "print(\"Recall score: {:.2f}%\".format(100 * smote_gb_recall))"
   ]
  },
  {
   "cell_type": "code",
   "execution_count": null,
   "id": "bc996887",
   "metadata": {},
   "outputs": [],
   "source": [
    "smote_gb_train_score = gb.score(X_train, y_train)\n",
    "\n",
    "print(f\"Training Score for Gradient Boosting with SMOTE: {smote_gb_train_score:.4f}\")\n",
    "print(f\"Training Time for Gradient Boosting with SMOTE: {smote_gb_time:.2f} s\")\n",
    "\n",
    "log_scores = cross_val_score(gb, X_train, y_train, cv=3)\n",
    "smote_gb_log_reg_mean = log_scores.mean()\n",
    "\n",
    "print(f\"Crossval Mean Score for Gradient Boosting with SMOTE: {smote_gb_log_reg_mean:.4f}\")"
   ]
  },
  {
   "cell_type": "markdown",
   "id": "5d4e0586",
   "metadata": {},
   "source": [
    "### Classifiers Comparison with SMOTE"
   ]
  },
  {
   "cell_type": "code",
   "execution_count": null,
   "id": "fed0395d",
   "metadata": {},
   "outputs": [],
   "source": [
    "models                    = ['Logical Regression', 'Decision Tree', 'Gradient Boosting']\n",
    "smote_accuracy            = [smote_lr_accuracy * 100, smote_dt_accuracy * 100, smote_gb_accuracy * 100]\n",
    "smote_precision           = [smote_lr_precision * 100, smote_dt_precision * 100, smote_gb_precision * 100]\n",
    "smote_recall              = [smote_lr_recall * 100, smote_dt_recall * 100, smote_gb_recall * 100]\n",
    "smote_train_score         = [smote_lr_train_score * 100, smote_dt_train_score * 100, smote_gb_train_score * 100]\n",
    "smote_train_time          = [smote_lr_time, smote_dt_time, smote_gb_time]\n",
    "smote_crossval_mean_score = [smote_lr_log_reg_mean, smote_dt_log_reg_mean, smote_gb_log_reg_mean]\n",
    "\n",
    "def percent(x, pos):\n",
    "    return '%1.0f%%' % x\n",
    "\n",
    "def seconds(x, pos):\n",
    "    return '%1.1f s' % x\n",
    "\n",
    "fig, axs = plt.subplots(3, 2, figsize=(14, 10))\n",
    "\n",
    "axs[0, 0].bar(models, smote_accuracy, color=['royalblue', 'cornflowerblue', 'lightsteelblue'])\n",
    "axs[0, 0].set_title('Accuracy')\n",
    "axs[0, 0].set_ylabel('Percent')\n",
    "axs[0, 0].set_ylim(0, 100)\n",
    "axs[0, 0].yaxis.set_major_formatter(FuncFormatter(percent))\n",
    "\n",
    "axs[0, 1].bar(models, smote_precision, color=['royalblue', 'cornflowerblue', 'lightsteelblue'])\n",
    "axs[0, 1].set_title('Precision')\n",
    "axs[0, 1].set_ylabel('Percent')\n",
    "axs[0, 1].set_ylim(0, 100)\n",
    "axs[0, 1].yaxis.set_major_formatter(FuncFormatter(percent))\n",
    "\n",
    "axs[1, 0].bar(models, smote_recall, color=['royalblue', 'cornflowerblue', 'lightsteelblue'])\n",
    "axs[1, 0].set_title('Recall')\n",
    "axs[1, 0].set_ylabel('Percent')\n",
    "axs[1, 0].set_ylim(0, 100)\n",
    "axs[1, 0].yaxis.set_major_formatter(FuncFormatter(percent))\n",
    "\n",
    "axs[1, 1].bar(models, smote_train_score, color=['royalblue', 'cornflowerblue', 'lightsteelblue'])\n",
    "axs[1, 1].set_title('Train Score')\n",
    "axs[1, 1].set_ylabel('Percent')\n",
    "axs[1, 1].set_ylim(0, 100)\n",
    "axs[1, 1].yaxis.set_major_formatter(FuncFormatter(percent))\n",
    "\n",
    "axs[2, 0].bar(models, smote_train_time, color=['royalblue', 'cornflowerblue', 'lightsteelblue'])\n",
    "axs[2, 0].set_title('Train Time')\n",
    "axs[2, 0].set_ylabel('Time')\n",
    "axs[2, 0].set_ylim(0, max(train_time) + 1)\n",
    "axs[2, 0].yaxis.set_major_formatter(FuncFormatter(seconds))\n",
    "\n",
    "axs[2, 1].bar(models, smote_crossval_mean_score, color=['royalblue', 'cornflowerblue', 'lightsteelblue'])\n",
    "axs[2, 1].set_title('Crossval Mean Score')\n",
    "axs[2, 1].set_ylabel('Score')\n",
    "axs[2, 1].set_ylim(0, 1)\n",
    "\n",
    "plt.tight_layout()\n",
    "plt.show()"
   ]
  },
  {
   "cell_type": "markdown",
   "id": "de4c0aef",
   "metadata": {},
   "source": [
    "## Global Model comparison with and without SMOTE"
   ]
  },
  {
   "cell_type": "code",
   "execution_count": null,
   "id": "13727650",
   "metadata": {},
   "outputs": [],
   "source": [
    "models = ['Logical Regression', 'Decision Tree', 'Gradient Boosting']\n",
    "x = np.arange(len(models))\n",
    "width = 0.35  \n",
    "\n",
    "fig, axs = plt.subplots(3, 2, figsize=(18, 18))\n",
    "\n",
    "axs[0, 0].bar(x - width/2, accuracy, width, label='without SMOTE', color='royalblue')\n",
    "axs[0, 0].bar(x + width/2, smote_accuracy, width, label='with SMOTE', color='darkorange')\n",
    "axs[0, 0].set_title('Accuracy')\n",
    "axs[0, 0].set_ylabel('Percent')\n",
    "axs[0, 0].set_xticks(x)\n",
    "axs[0, 0].set_xticklabels(models)\n",
    "axs[0, 0].set_ylim(0, 100)\n",
    "axs[0, 0].yaxis.set_major_formatter(FuncFormatter(percent))\n",
    "axs[0, 0].legend()\n",
    "\n",
    "axs[0, 1].bar(x - width/2, precision, width, label='without SMOTE', color='royalblue')\n",
    "axs[0, 1].bar(x + width/2, smote_precision, width, label='with SMOTE', color='darkorange')\n",
    "axs[0, 1].set_title('Precision')\n",
    "axs[0, 1].set_ylabel('Percent')\n",
    "axs[0, 1].set_xticks(x)\n",
    "axs[0, 1].set_xticklabels(models)\n",
    "axs[0, 1].set_ylim(0, 100)\n",
    "axs[0, 1].yaxis.set_major_formatter(FuncFormatter(percent))\n",
    "axs[0, 1].legend()\n",
    "\n",
    "axs[1, 0].bar(x - width/2, recall, width, label='without SMOTE', color='royalblue')\n",
    "axs[1, 0].bar(x + width/2, smote_recall, width, label='with SMOTE', color='darkorange')\n",
    "axs[1, 0].set_title('Recall')\n",
    "axs[1, 0].set_ylabel('Percent')\n",
    "axs[1, 0].set_xticks(x)\n",
    "axs[1, 0].set_xticklabels(models)\n",
    "axs[1, 0].set_ylim(0, 100)\n",
    "axs[1, 0].yaxis.set_major_formatter(FuncFormatter(percent))\n",
    "axs[1, 0].legend()\n",
    "\n",
    "axs[1, 1].bar(x - width/2, train_score, width, label='without SMOTE', color='royalblue')\n",
    "axs[1, 1].bar(x + width/2, smote_train_score, width, label='with SMOTE', color='darkorange')\n",
    "axs[1, 1].set_title('Train Score')\n",
    "axs[1, 1].set_ylabel('Percent')\n",
    "axs[1, 1].set_xticks(x)\n",
    "axs[1, 1].set_xticklabels(models)\n",
    "axs[1, 1].set_ylim(0, 100)\n",
    "axs[1, 1].yaxis.set_major_formatter(FuncFormatter(percent))\n",
    "axs[1, 1].legend()\n",
    "\n",
    "axs[2, 0].bar(x - width/2, train_time, width, label='without SMOTE', color='royalblue')\n",
    "axs[2, 0].bar(x + width/2, smote_train_time, width, label='with SMOTE', color='darkorange')\n",
    "axs[2, 0].set_title('Train Time')\n",
    "axs[2, 0].set_ylabel('Time (s)')\n",
    "axs[2, 0].set_xticks(x)\n",
    "axs[2, 0].set_xticklabels(models)\n",
    "axs[2, 0].set_ylim(0, max(max(train_time), max(smote_train_time)) + 0.1)\n",
    "axs[2, 0].yaxis.set_major_formatter(FuncFormatter(seconds))\n",
    "axs[2, 0].legend()\n",
    "\n",
    "axs[2, 1].bar(x - width/2, crossval_mean_score, width, label='without SMOTE', color='royalblue')\n",
    "axs[2, 1].bar(x + width/2, smote_crossval_mean_score, width, label='with SMOTE', color='darkorange')\n",
    "axs[2, 1].set_title('Crossval Mean Score')\n",
    "axs[2, 1].set_ylabel('Score')\n",
    "axs[2, 1].set_xticks(x)\n",
    "axs[2, 1].set_xticklabels(models)\n",
    "axs[2, 1].set_ylim(0, 1)\n",
    "axs[2, 1].legend()\n",
    "\n",
    "plt.tight_layout()\n",
    "plt.show()"
   ]
  },
  {
   "cell_type": "markdown",
   "id": "12ea54bd-1bdb-438e-b267-b65585cd0685",
   "metadata": {},
   "source": [
    "## Classification Model"
   ]
  },
  {
   "cell_type": "code",
   "execution_count": null,
   "id": "581be6b7",
   "metadata": {},
   "outputs": [],
   "source": [
    "term_deposits = df.copy()\n",
    "dep = term_deposits['y']\n",
    "term_deposits.drop(labels=['y'], axis=1,inplace=True)\n",
    "term_deposits.insert(0, 'y', dep)\n",
    "term_deposits.head()\n",
    "\n",
    "term_deposits[\"housing\"].value_counts()/len(term_deposits)"
   ]
  },
  {
   "cell_type": "code",
   "execution_count": null,
   "id": "137d2b0d-6001-4601-94ff-5771509da1d0",
   "metadata": {},
   "outputs": [],
   "source": [
    "term_deposits[\"loan\"].value_counts() / len(term_deposits)"
   ]
  },
  {
   "cell_type": "markdown",
   "id": "0766c50f",
   "metadata": {},
   "source": [
    "## Optimization of hyperparameters"
   ]
  },
  {
   "cell_type": "code",
   "execution_count": null,
   "id": "080af434",
   "metadata": {},
   "outputs": [],
   "source": [
    "parameter_space = {\n",
    "    'hidden_layer_sizes': [(50,50,50), (50,100,50), (100,)],\n",
    "    'activation': ['tanh', 'relu'],\n",
    "    'solver': ['sgd', 'adam'],\n",
    "    'alpha': [0.0001, 0.05],\n",
    "    'learning_rate': ['constant','adaptive'],\n",
    "}\n",
    "clf = GridSearchCV(model, parameter_space, n_jobs=-1, cv=3)\n",
    "clf.fit(X_train, y_train)\n",
    "print(\"Best param:\", clf.best_params_)\n"
   ]
  }
 ],
 "metadata": {
  "kernelspec": {
   "display_name": "Python 3 (ipykernel)",
   "language": "python",
   "name": "python3"
  },
  "language_info": {
   "codemirror_mode": {
    "name": "ipython",
    "version": 3
   },
   "file_extension": ".py",
   "mimetype": "text/x-python",
   "name": "python",
   "nbconvert_exporter": "python",
   "pygments_lexer": "ipython3",
   "version": "3.10.0"
  }
 },
 "nbformat": 4,
 "nbformat_minor": 5
}
